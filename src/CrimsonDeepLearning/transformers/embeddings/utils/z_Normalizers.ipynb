{
 "cells": [
  {
   "cell_type": "code",
   "execution_count": 5,
   "metadata": {},
   "outputs": [
    {
     "data": {
      "text/plain": [
       "(array([[ 0,  0],\n",
       "        [10, 10],\n",
       "        [20, 20]], dtype=int64),\n",
       " array([[ 5,  5],\n",
       "        [15, 15],\n",
       "        [25, 25]], dtype=int64))"
      ]
     },
     "execution_count": 5,
     "metadata": {},
     "output_type": "execute_result"
    }
   ],
   "source": [
    "from Normalizers import CategoricalNormalizer2dArray\n",
    "\n",
    "import pandas as pd\n",
    "\n",
    "train_data = pd.DataFrame({\n",
    "    'feature1': [10, 20, 30],\n",
    "    'feature2': [40, 50, 60]\n",
    "})\n",
    "\n",
    "test_data = pd.DataFrame({\n",
    "    'feature1': [15, 25, 35],\n",
    "    'feature2': [45, 55, 65]\n",
    "})\n",
    "\n",
    "normalizer = CategoricalNormalizer2dArray()\n",
    "\n",
    "categorical_df = normalizer.fit_transform(train_data.values)\n",
    "\n",
    "test_categorical_df = normalizer.transform(test_data.values)\n",
    "\n",
    "categorical_df, test_categorical_df"
   ]
  },
  {
   "cell_type": "code",
   "execution_count": 6,
   "metadata": {},
   "outputs": [
    {
     "data": {
      "text/plain": [
       "array([10, 40], dtype=int64)"
      ]
     },
     "execution_count": 6,
     "metadata": {},
     "output_type": "execute_result"
    }
   ],
   "source": [
    "normalizer.min_values"
   ]
  }
 ],
 "metadata": {
  "kernelspec": {
   "display_name": "Python 3",
   "language": "python",
   "name": "python3"
  },
  "language_info": {
   "codemirror_mode": {
    "name": "ipython",
    "version": 3
   },
   "file_extension": ".py",
   "mimetype": "text/x-python",
   "name": "python",
   "nbconvert_exporter": "python",
   "pygments_lexer": "ipython3",
   "version": "3.9.13"
  }
 },
 "nbformat": 4,
 "nbformat_minor": 2
}
