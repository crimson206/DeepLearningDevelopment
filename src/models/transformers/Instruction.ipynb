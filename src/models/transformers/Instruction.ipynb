{
 "cells": [
  {
   "cell_type": "code",
   "execution_count": 10,
   "metadata": {},
   "outputs": [],
   "source": [
    "import torch\n",
    "from transformers import AutoConfig\n",
    "from BothDTypeTransformer import BothDTypeTransformer"
   ]
  },
  {
   "cell_type": "markdown",
   "metadata": {},
   "source": [
    "- Expected Input Data"
   ]
  },
  {
   "cell_type": "code",
   "execution_count": 11,
   "metadata": {},
   "outputs": [
    {
     "name": "stdout",
     "output_type": "stream",
     "text": [
      "Expeced shape of continuous data: torch.Size([5, 256, 10])\n",
      "Expeced shape of categorical data: torch.Size([5, 256, 3])\n",
      "Expeced dtype of continuous data: torch.float32\n",
      "Expeced dtype of categorical data: torch.int64\n"
     ]
    }
   ],
   "source": [
    "num_continuous = 10\n",
    "n_emb = 768\n",
    "num_embeddings = [20, 30, 40]\n",
    "transformer_config = AutoConfig.from_pretrained('bert-base-uncased')\n",
    "\n",
    "model = BothDTypeTransformer(\n",
    "    num_continuous=num_continuous,\n",
    "    n_emb=n_emb,\n",
    "    num_embeddings=num_embeddings,\n",
    "    transformer_config=transformer_config\n",
    ")\n",
    "\n",
    "batch_size = 5\n",
    "sequence_length = 256\n",
    "\n",
    "continuous_data = torch.randn(batch_size, sequence_length, num_continuous)\n",
    "categorical_data = torch.randint(0, 20, (batch_size, sequence_length, len(num_embeddings)))\n",
    "\n",
    "print(\"Expeced shape of continuous data:\", continuous_data.size())\n",
    "print(\"Expeced shape of categorical data:\", categorical_data.size())\n",
    "print(\"Expeced dtype of continuous data:\", continuous_data.dtype)\n",
    "print(\"Expeced dtype of categorical data:\", categorical_data.dtype)"
   ]
  },
  {
   "cell_type": "markdown",
   "metadata": {},
   "source": [
    "- Test run and expected output shape"
   ]
  },
  {
   "cell_type": "code",
   "execution_count": 12,
   "metadata": {},
   "outputs": [
    {
     "name": "stdout",
     "output_type": "stream",
     "text": [
      "Expected shape of output: torch.Size([5, 256])\n"
     ]
    }
   ],
   "source": [
    "# prepare a simple mask to test the functionality\n",
    "attention_mask = torch.ones((batch_size, sequence_length))\n",
    "\n",
    "# Move the model to the device (CPU or GPU)\n",
    "device = torch.device(\"cuda\" if torch.cuda.is_available() else \"cpu\")\n",
    "model.to(device)\n",
    "\n",
    "# Move your data to the same device as your model\n",
    "continuous_data = continuous_data.to(device)\n",
    "categorical_data = categorical_data.to(device)\n",
    "attention_mask = attention_mask.to(device)\n",
    "\n",
    "# Perform a forward pass\n",
    "model.eval()\n",
    "with torch.no_grad():\n",
    "    output = model(continuous_data, categorical_data, attention_mask)\n",
    "\n",
    "print(\"Expected shape of output:\", output.size())\n"
   ]
  }
 ],
 "metadata": {
  "kernelspec": {
   "display_name": "Python 3",
   "language": "python",
   "name": "python3"
  },
  "language_info": {
   "codemirror_mode": {
    "name": "ipython",
    "version": 3
   },
   "file_extension": ".py",
   "mimetype": "text/x-python",
   "name": "python",
   "nbconvert_exporter": "python",
   "pygments_lexer": "ipython3",
   "version": "3.9.13"
  }
 },
 "nbformat": 4,
 "nbformat_minor": 2
}
